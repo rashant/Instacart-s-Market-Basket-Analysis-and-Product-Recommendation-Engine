{
 "cells": [
  {
   "cell_type": "code",
   "execution_count": 14,
   "metadata": {},
   "outputs": [],
   "source": [
    "import pandas as pd\n",
    "import matplotlib.pyplot as plt\n",
    "import numpy as np\n",
    "import seaborn as sns\n",
    "from sklearn.model_selection import train_test_split\n",
    "import keras\n",
    "import tensorflow as tf\n",
    "from keras.models import Model\n",
    "from keras.optimizers import Adam\n",
    "from keras.layers import Dense,Input,Dropout\n",
    "from keras.callbacks import EarlyStopping, ModelCheckpoint\n",
    "\n",
    "\n",
    "from f1optimization_faron import get_best_prediction\n",
    "from sklearn.metrics import confusion_matrix, accuracy_score, precision_score , log_loss\n",
    "\n",
    "from datetime import datetime\n",
    "from tqdm import tqdm\n",
    "import pickle\n",
    "import os"
   ]
  },
  {
   "cell_type": "code",
   "execution_count": 2,
   "metadata": {},
   "outputs": [],
   "source": [
    "data = pd.HDFStore(\"Data_v2.h5\")"
   ]
  },
  {
   "cell_type": "code",
   "execution_count": 3,
   "metadata": {},
   "outputs": [],
   "source": [
    "train_data = data['train']\n",
    "test_data  = data['test']"
   ]
  },
  {
   "attachments": {},
   "cell_type": "markdown",
   "metadata": {},
   "source": [
    "Utility Functions"
   ]
  },
  {
   "cell_type": "code",
   "execution_count": 30,
   "metadata": {},
   "outputs": [],
   "source": [
    "def display_target_distribution(y_train, y_val):\n",
    "\n",
    "  \"\"\"\n",
    "  Display target distribution in train and validation data\n",
    "  \"\"\"\n",
    "  _, train_label_counts = np.unique(y_train, return_counts=True)\n",
    "  _, val_label_counts = np.unique(y_val, return_counts=True)\n",
    "\n",
    "\n",
    "  width = 0.35  # the width of the bars\n",
    "  x = np.arange(2)\n",
    "  fig, ax = plt.subplots(figsize=(12,6))\n",
    "  rects1 = ax.bar(x - width/2, train_label_counts, width, label='Train')\n",
    "  rects2 = ax.bar(x + width/2, val_label_counts, width, label='validation')\n",
    "\n",
    "  # Add some text for labels, title and custom x-axis tick labels, etc.\n",
    "  ax.set_ylabel('Number of datapoints')\n",
    "  ax.set_title('Distribution of the Output Variable')\n",
    "  ax.set_xticks(x)\n",
    "  ax.set_xticklabels([0,1])\n",
    "  ax.legend()\n",
    "  plt.show()\n",
    "\n",
    "def random_split(test_size = 0.1):\n",
    "\n",
    "  \"\"\"\n",
    "  Split data randomly into train and validation data \n",
    "  \"\"\"\n",
    "  train_y = train_data['reordered'].values.tolist()\n",
    "  train_x = train_data.drop(['user_id', 'product_id', 'order_id', 'reordered'], axis = 1)\n",
    "\n",
    "  # since there are Millions of data ,we are taking 10% of data in test set , \n",
    "  X_train, X_val, y_train, y_val = train_test_split(train_x, train_y, stratify=train_y, test_size=0.1, random_state = 42)\n",
    "\n",
    "  #display distribution of data\n",
    "  display_target_distribution(y_train, y_val)\n",
    "  return (X_train, y_train),(X_val, y_val)\n",
    "\n",
    "def split_by_user(test_size = 0.1):\n",
    "  \n",
    "  #split on users\n",
    "  sampled_users = train_data['user_id'].sample(n=int(0.1 * train_data['user_id'].nunique()), random_state=42,replace=False).reset_index()\n",
    "  val = train_data[train_data['user_id'].isin(sampled_users['user_id'].tolist())]\n",
    "  train = train_data[~train_data['user_id'].isin(sampled_users['user_id'].tolist())]\n",
    "\n",
    "  y_train = train['reordered'].values.tolist()\n",
    "  X_train = train.drop(['user_id', 'product_id', 'order_id', 'reordered'], axis = 1)\n",
    "\n",
    "  y_val = val['reordered'].values.tolist()\n",
    "  X_val = val.drop(['user_id', 'product_id', 'order_id', 'reordered'], axis = 1)\n",
    "\n",
    "  display_target_distribution(y_train, y_val)\n",
    "  return (X_train, y_train),(X_val, y_val)\n",
    "def model_stats(predict_y,y_val):# Plot confusion Matrix\n",
    "\n",
    "  \"\"\"\n",
    "  Display model statistics such as accuracy , precision score and confusion matrix\n",
    "  \"\"\"\n",
    "\n",
    "  predict_y =np.array(predict_y>0.5,dtype=int).reshape(-1,).tolist()\n",
    "  cm = confusion_matrix(y_val, predict_y)\n",
    "  sns.heatmap(cm, cmap='Blues', annot = True, fmt=\"g\", annot_kws={\"size\": 12})\n",
    "  plt.show()\n",
    "  print(\"Accuracy :\",accuracy_score(y_val, predict_y))\n",
    "  print(\"Precision :\",precision_score(y_val, predict_y))\n"
   ]
  },
  {
   "cell_type": "code",
   "execution_count": 5,
   "metadata": {},
   "outputs": [],
   "source": [
    "def getscores_on_testdata(model = None ,scaler = None, model_type = 'xgb', val_file = \"Data_v2.h5\"):\n",
    "    \"\"\"\n",
    "    Returns product list for every order-ID which maximizes F1-score\n",
    "    \n",
    "    Parameters\n",
    "    ----------\n",
    "    model      : The default is None.\n",
    "                 Trained model is passed here  \n",
    "    model_type : The default is xgb\n",
    "                 Identifier to deal with both sgb and catboost models\n",
    "    val_file   : The default is Data_v2.h5\n",
    "                 Path of dataset is passed\n",
    "    Returns\n",
    "    -------\n",
    "    test_products : Dataframe object\n",
    "                  This dataframe contains orderID, productID's(string)\n",
    "\n",
    "    \"\"\"\n",
    "\n",
    "    #loading test data\n",
    "    test_data = pd.HDFStore(val_file)\n",
    "    test_data = test_data['test']\n",
    "    data = test_data.drop(['user_id', 'product_id', 'order_id'], axis = 1)\n",
    "\n",
    "    #scale test data\n",
    "    if scaler != None:\n",
    "        data = scaler.transform(data)\n",
    "\n",
    "    \n",
    "    if model_type == 'mlp':\n",
    "      ypred = model.predict(data)\n",
    "      ypred = ypred.reshape(-1,).tolist()\n",
    "    \n",
    "    else:\n",
    "      ypred = model.predict_proba(data)\n",
    "      #get probabilities of class 1\n",
    "      ypred = ypred[:,-1]\n",
    "\n",
    "    #add output probablities to a column\n",
    "    test_data['reordered'] =  ypred\n",
    "    \n",
    "    #create a dataframe with orderID and list of all possible productID's\n",
    "    test_products = test_data.groupby(['order_id'])['product_id'].apply(list).reset_index()\n",
    "    \n",
    "    #collect all probs in a single list for each OrderID\n",
    "    probs = test_data.groupby(['order_id'])['reordered'].apply(list).reset_index()\n",
    "    test_products['probs'] = probs['reordered']\n",
    "\n",
    "    #run faron's optimization code to get most probable set of products which might be reordered\n",
    "    products = []\n",
    "    for i in tqdm(test_products.index):\n",
    "        prods = get_best_prediction(test_products.iloc[i]['product_id'], test_products.iloc[i]['probs'], None)\n",
    "        products.append(prods)\n",
    "\n",
    "    test_products['products']= products\n",
    "    \n",
    "    test_products['order_id'] = test_products['order_id'].apply(int)\n",
    "    test_products.drop(['product_id','probs'], axis = 1, inplace = True)\n",
    "   \n",
    "    return test_products"
   ]
  },
  {
   "cell_type": "code",
   "execution_count": 6,
   "metadata": {},
   "outputs": [],
   "source": [
    "def convert_to_string(row):\n",
    "    \"\"\"\n",
    "    convert series value to ist of strings\n",
    "    \"\"\"\n",
    "    list_string = list(map(str, row.tolist())) # convert series > list > list of strings\n",
    "    return \" \".join(list_string)\n",
    "\n",
    "def globl_threshold_products(model = None, scaler = None, model_type = 'xgb', val_file=\"Data_v2.h5\"):\n",
    "\n",
    "    \"\"\"\n",
    "    Get all products above threshold and join them\n",
    "    \"\"\"\n",
    "\n",
    "    #loading test data\n",
    "    test_data = pd.HDFStore(val_file)\n",
    "    test_data = test_data['test']\n",
    "    data = test_data.drop(['user_id', 'product_id', 'order_id'], axis = 1)\n",
    "\n",
    "    #scale test data\n",
    "    if scaler != None:\n",
    "        data = scaler.transform(data)\n",
    "\n",
    "    #if model is xgb use model.predict(), else use model.predict_proba()\n",
    "    if model_type == 'mlp':\n",
    "      ypred = model.predict(data)\n",
    "      ypred = ypred.reshape(-1,).tolist()\n",
    "\n",
    "    else:\n",
    "      ypred = model.predict_proba(data)\n",
    "      #get probabilities of class 1\n",
    "      ypred = ypred[:,-1]\n",
    "\n",
    "    #add output probablities to a column\n",
    "    test_data['reordered'] =  ypred\n",
    "\n",
    "    #create a dataframe wiith unique order id\n",
    "    df = pd.DataFrame({'order_id':test_data['order_id'].unique()})\n",
    "\n",
    "    # 3 best threshold values based on multiple runs\n",
    "    for i, thresh in enumerate([0.18,0.19,0.20]):\n",
    "\n",
    "      #get all products above threshold and join them \n",
    "      test_data_copy = test_data[test_data['reordered']>=thresh].groupby(['order_id'])['product_id'].apply(convert_to_string).reset_index(name = \"products\")\n",
    "      \n",
    "      #create a submission by merging the order_id with test_data_copy\n",
    "      submission = pd.merge(test_data_copy,df, on = 'order_id', how = 'right')\n",
    "      submission['order_id'] = submission['order_id'].apply(int)\n",
    "\n",
    "      # replace empty cells with None , where no product is above threshold probability\n",
    "      submission = submission.where(pd.notnull(submission), None)\n",
    "\n",
    "      #save submission file\n",
    "      submission.to_csv(\"submission_sample_v8_{}_{}.csv\".format(i+1,model_type), index= False)\n",
    "      print(\"Generated submission_sample_v8_{}_{}.csv successfully\".format(i+1,model_type))\n"
   ]
  },
  {
   "attachments": {},
   "cell_type": "markdown",
   "metadata": {},
   "source": [
    "Catboost\n"
   ]
  },
  {
   "cell_type": "code",
   "execution_count": 7,
   "metadata": {},
   "outputs": [
    {
     "data": {
      "image/png": "[encoded data removed]",
      "text/plain": [
       "<Figure size 1200x600 with 1 Axes>"
      ]
     },
     "metadata": {},
     "output_type": "display_data"
    }
   ],
   "source": [
    "(X_train, y_train),(X_val, y_val) = random_split(test_size = 0.2)"
   ]
  },
  {
   "cell_type": "code",
   "execution_count": 8,
   "metadata": {},
   "outputs": [],
   "source": [
    "from sklearn.preprocessing import StandardScaler\n",
    "\n",
    "# fit scaler on training data\n",
    "scaler = StandardScaler().fit(X_train)\n",
    "\n",
    "# transforming the data\n",
    "X_train_norm = scaler.transform(X_train)\n",
    "X_val_norm = scaler.transform(X_val)"
   ]
  },
  {
   "cell_type": "code",
   "execution_count": 9,
   "metadata": {},
   "outputs": [
    {
     "data": {
      "text/plain": [
       "['standrdscaler.pkl']"
      ]
     },
     "execution_count": 9,
     "metadata": {},
     "output_type": "execute_result"
    }
   ],
   "source": [
    "import joblib \n",
    "joblib.dump(scaler, 'standrdscaler.pkl') "
   ]
  },
  {
   "cell_type": "code",
   "execution_count": 15,
   "metadata": {},
   "outputs": [],
   "source": [
    "SEED_VALUE = 0\n",
    "np.random.seed(SEED_VALUE)\n",
    "tf.random.set_seed(SEED_VALUE)"
   ]
  },
  {
   "cell_type": "code",
   "execution_count": 16,
   "metadata": {},
   "outputs": [],
   "source": [
    "def mlp_model():\n",
    "    \"\"\"\n",
    "    Create mlp model with 4 hidden layers .\n",
    "    \"\"\"\n",
    "    inp = Input(shape =  (28,)) #no of features\n",
    "    mlp = Dense(256, activation = \"relu\", kernel_initializer=keras.initializers.he_normal(seed=SEED_VALUE), name = 'fc_1')(inp)\n",
    "    mlp = Dropout(0.3)(mlp)\n",
    "    mlp = Dense(128, activation = 'relu', kernel_initializer=keras.initializers.he_normal(seed=SEED_VALUE), name = 'fc_2')(mlp)\n",
    "    mlp = Dropout(0.3)(mlp)\n",
    "    mlp = Dense(64, activation = 'relu', kernel_initializer=keras.initializers.he_normal(seed=SEED_VALUE), name = 'fc_3')(mlp)\n",
    "    mlp = Dropout(0.3)(mlp)\n",
    "    mlp = Dense(32, activation = 'relu', kernel_initializer=keras.initializers.he_normal(seed=SEED_VALUE), name = 'fc_4')(mlp)\n",
    "    mlp = Dropout(0.3)(mlp)\n",
    "    mlp = Dense(1, activation = 'sigmoid', kernel_initializer=keras.initializers.he_normal(seed=SEED_VALUE), name = 'fc_5')(mlp)\n",
    "\n",
    "    model = Model(inputs = inp, outputs = mlp)\n",
    "    \n",
    "    opt = Adam(lr= 0.001)\n",
    "    model.compile(loss=\"binary_crossentropy\", optimizer=opt, metrics=[\"accuracy\"])\n",
    "    \n",
    "    return model"
   ]
  },
  {
   "cell_type": "code",
   "execution_count": 17,
   "metadata": {},
   "outputs": [
    {
     "name": "stdout",
     "output_type": "stream",
     "text": [
      "Model: \"model\"\n",
      "_________________________________________________________________\n",
      " Layer (type)                Output Shape              Param #   \n",
      "=================================================================\n",
      " input_1 (InputLayer)        [(None, 28)]              0         \n",
      "                                                                 \n",
      " fc_1 (Dense)                (None, 256)               7424      \n",
      "                                                                 \n",
      " dropout (Dropout)           (None, 256)               0         \n",
      "                                                                 \n",
      " fc_2 (Dense)                (None, 128)               32896     \n",
      "                                                                 \n",
      " dropout_1 (Dropout)         (None, 128)               0         \n",
      "                                                                 \n",
      " fc_3 (Dense)                (None, 64)                8256      \n",
      "                                                                 \n",
      " dropout_2 (Dropout)         (None, 64)                0         \n",
      "                                                                 \n",
      " fc_4 (Dense)                (None, 32)                2080      \n",
      "                                                                 \n",
      " dropout_3 (Dropout)         (None, 32)                0         \n",
      "                                                                 \n",
      " fc_5 (Dense)                (None, 1)                 33        \n",
      "                                                                 \n",
      "=================================================================\n",
      "Total params: 50,689\n",
      "Trainable params: 50,689\n",
      "Non-trainable params: 0\n",
      "_________________________________________________________________\n",
      "None\n"
     ]
    },
    {
     "name": "stderr",
     "output_type": "stream",
     "text": [
      "d:\\prashant\\softwares\\Python\\lib\\site-packages\\keras\\optimizers\\optimizer_v2\\adam.py:117: UserWarning: The `lr` argument is deprecated, use `learning_rate` instead.\n",
      "  super().__init__(name, **kwargs)\n"
     ]
    }
   ],
   "source": [
    "filepath=\"saved_model/mlp/checkpoint.hdf5\"\n",
    "\n",
    "if not os.path.exists(\"saved_model/mlp/\"):\n",
    "    os.makedirs(\"saved_model/mlp/\")    \n",
    "\n",
    "checkpoint = ModelCheckpoint(filepath=filepath, monitor='val_accuracy',  verbose=1, save_best_only=True, mode='auto')\n",
    "earlystop = EarlyStopping(monitor='val_accuracy', min_delta=0.001, patience=2, verbose=1)\n",
    "keras.backend.clear_session()\n",
    "\n",
    "model = mlp_model()\n",
    "print(model.summary())"
   ]
  },
  {
   "cell_type": "code",
   "execution_count": 18,
   "metadata": {},
   "outputs": [
    {
     "name": "stdout",
     "output_type": "stream",
     "text": [
      "Epoch 1/10\n",
      "238341/238350 [============================>.] - ETA: 0s - loss: 0.2588 - accuracy: 0.9051\n",
      "Epoch 1: val_accuracy improved from -inf to 0.90353, saving model to saved_model/mlp\\checkpoint.hdf5\n",
      "238350/238350 [==============================] - 1228s 5ms/step - loss: 0.2588 - accuracy: 0.9051 - val_loss: 0.2559 - val_accuracy: 0.9035\n",
      "Epoch 2/10\n",
      "238345/238350 [============================>.] - ETA: 0s - loss: 0.2584 - accuracy: 0.9052\n",
      "Epoch 2: val_accuracy improved from 0.90353 to 0.90724, saving model to saved_model/mlp\\checkpoint.hdf5\n",
      "238350/238350 [==============================] - 1243s 5ms/step - loss: 0.2584 - accuracy: 0.9052 - val_loss: 0.2536 - val_accuracy: 0.9072\n",
      "Epoch 3/10\n",
      "238339/238350 [============================>.] - ETA: 0s - loss: 0.2590 - accuracy: 0.9048\n",
      "Epoch 3: val_accuracy improved from 0.90724 to 0.90783, saving model to saved_model/mlp\\checkpoint.hdf5\n",
      "238350/238350 [==============================] - 1262s 5ms/step - loss: 0.2590 - accuracy: 0.9048 - val_loss: 0.2506 - val_accuracy: 0.9078\n",
      "Epoch 4/10\n",
      "238347/238350 [============================>.] - ETA: 0s - loss: 0.2598 - accuracy: 0.9043\n",
      "Epoch 4: val_accuracy did not improve from 0.90783\n",
      "238350/238350 [==============================] - 1298s 5ms/step - loss: 0.2598 - accuracy: 0.9043 - val_loss: 0.2523 - val_accuracy: 0.9058\n",
      "Epoch 4: early stopping\n"
     ]
    }
   ],
   "source": [
    "batch_size = 128\n",
    "history = model.fit(X_train_norm,np.array(y_train).reshape(-1,1), epochs = 10, validation_data = (X_val_norm,np.array(y_val).reshape(-1,1)), callbacks=[checkpoint, earlystop])"
   ]
  },
  {
   "cell_type": "code",
   "execution_count": 19,
   "metadata": {},
   "outputs": [
    {
     "name": "stdout",
     "output_type": "stream",
     "text": [
      "Training Accuracy :90.78 %\n",
      "Validation Accuracy :90.78 %\n"
     ]
    }
   ],
   "source": [
    "saved_model = tf.keras.models.load_model('saved_model/mlp/checkpoint.hdf5')\n",
    "print(\"Training Accuracy :{:.2f} %\".format(saved_model.evaluate(X_train_norm,np.array(y_train).reshape(-1,1), verbose = 0)[1]*100))\n",
    "print(\"Validation Accuracy :{:.2f} %\".format(saved_model.evaluate(X_val_norm,np.array(y_val).reshape(-1,1), verbose = 0)[1]*100))\n"
   ]
  },
  {
   "cell_type": "code",
   "execution_count": 21,
   "metadata": {},
   "outputs": [
    {
     "data": {
      "text/plain": [
       "array([[0.00144693],\n",
       "       [0.01894163],\n",
       "       [0.02033764],\n",
       "       ...,\n",
       "       [0.39690349],\n",
       "       [0.06700488],\n",
       "       [0.20537491]], dtype=float32)"
      ]
     },
     "execution_count": 21,
     "metadata": {},
     "output_type": "execute_result"
    }
   ],
   "source": [
    "predict_y"
   ]
  },
  {
   "cell_type": "code",
   "execution_count": 20,
   "metadata": {},
   "outputs": [
    {
     "name": "stdout",
     "output_type": "stream",
     "text": [
      "26484/26484 [==============================] - 119s 4ms/step\n",
      "logloss on validation data : 0.25061789018918834\n"
     ]
    },
    {
     "ename": "ValueError",
     "evalue": "Classification metrics can't handle a mix of binary and continuous targets",
     "output_type": "error",
     "traceback": [
      "\u001b[1;31m---------------------------------------------------------------------------\u001b[0m",
      "\u001b[1;31mValueError\u001b[0m                                Traceback (most recent call last)",
      "Cell \u001b[1;32mIn[20], line 3\u001b[0m\n\u001b[0;32m      1\u001b[0m predict_y \u001b[39m=\u001b[39m saved_model\u001b[39m.\u001b[39mpredict(X_val_norm)\n\u001b[0;32m      2\u001b[0m \u001b[39mprint\u001b[39m(\u001b[39m\"\u001b[39m\u001b[39mlogloss on validation data :\u001b[39m\u001b[39m\"\u001b[39m,log_loss(y_val, predict_y\u001b[39m.\u001b[39mreshape(\u001b[39m-\u001b[39m\u001b[39m1\u001b[39m,)\u001b[39m.\u001b[39mtolist(), labels\u001b[39m=\u001b[39m[\u001b[39m0\u001b[39m,\u001b[39m1\u001b[39m], eps\u001b[39m=\u001b[39m\u001b[39m1e-15\u001b[39m))\n\u001b[1;32m----> 3\u001b[0m model_stats(predict_y,y_val)\n",
      "Cell \u001b[1;32mIn[4], line 61\u001b[0m, in \u001b[0;36mmodel_stats\u001b[1;34m(predict_y, y_val)\u001b[0m\n\u001b[0;32m     56\u001b[0m \u001b[39m\u001b[39m\u001b[39m\"\"\"\u001b[39;00m\n\u001b[0;32m     57\u001b[0m \u001b[39mDisplay model statistics such as accuracy , precision score and confusion matrix\u001b[39;00m\n\u001b[0;32m     58\u001b[0m \u001b[39m\"\"\"\u001b[39;00m\n\u001b[0;32m     60\u001b[0m \u001b[39m#predicted_y =np.array(predict_y>0.5,dtype=int).reshape(-1,).tolist()\u001b[39;00m\n\u001b[1;32m---> 61\u001b[0m cm \u001b[39m=\u001b[39m confusion_matrix(y_val, predict_y)\n\u001b[0;32m     62\u001b[0m sns\u001b[39m.\u001b[39mheatmap(cm, cmap\u001b[39m=\u001b[39m\u001b[39m'\u001b[39m\u001b[39mBlues\u001b[39m\u001b[39m'\u001b[39m, annot \u001b[39m=\u001b[39m \u001b[39mTrue\u001b[39;00m, fmt\u001b[39m=\u001b[39m\u001b[39m\"\u001b[39m\u001b[39mg\u001b[39m\u001b[39m\"\u001b[39m, annot_kws\u001b[39m=\u001b[39m{\u001b[39m\"\u001b[39m\u001b[39msize\u001b[39m\u001b[39m\"\u001b[39m: \u001b[39m12\u001b[39m})\n\u001b[0;32m     63\u001b[0m plt\u001b[39m.\u001b[39mshow()\n",
      "File \u001b[1;32md:\\prashant\\softwares\\Python\\lib\\site-packages\\sklearn\\metrics\\_classification.py:317\u001b[0m, in \u001b[0;36mconfusion_matrix\u001b[1;34m(y_true, y_pred, labels, sample_weight, normalize)\u001b[0m\n\u001b[0;32m    232\u001b[0m \u001b[39mdef\u001b[39;00m \u001b[39mconfusion_matrix\u001b[39m(\n\u001b[0;32m    233\u001b[0m     y_true, y_pred, \u001b[39m*\u001b[39m, labels\u001b[39m=\u001b[39m\u001b[39mNone\u001b[39;00m, sample_weight\u001b[39m=\u001b[39m\u001b[39mNone\u001b[39;00m, normalize\u001b[39m=\u001b[39m\u001b[39mNone\u001b[39;00m\n\u001b[0;32m    234\u001b[0m ):\n\u001b[0;32m    235\u001b[0m \u001b[39m    \u001b[39m\u001b[39m\"\"\"Compute confusion matrix to evaluate the accuracy of a classification.\u001b[39;00m\n\u001b[0;32m    236\u001b[0m \n\u001b[0;32m    237\u001b[0m \u001b[39m    By definition a confusion matrix :math:`C` is such that :math:`C_{i, j}`\u001b[39;00m\n\u001b[1;32m   (...)\u001b[0m\n\u001b[0;32m    315\u001b[0m \u001b[39m    (0, 2, 1, 1)\u001b[39;00m\n\u001b[0;32m    316\u001b[0m \u001b[39m    \"\"\"\u001b[39;00m\n\u001b[1;32m--> 317\u001b[0m     y_type, y_true, y_pred \u001b[39m=\u001b[39m _check_targets(y_true, y_pred)\n\u001b[0;32m    318\u001b[0m     \u001b[39mif\u001b[39;00m y_type \u001b[39mnot\u001b[39;00m \u001b[39min\u001b[39;00m (\u001b[39m\"\u001b[39m\u001b[39mbinary\u001b[39m\u001b[39m\"\u001b[39m, \u001b[39m\"\u001b[39m\u001b[39mmulticlass\u001b[39m\u001b[39m\"\u001b[39m):\n\u001b[0;32m    319\u001b[0m         \u001b[39mraise\u001b[39;00m \u001b[39mValueError\u001b[39;00m(\u001b[39m\"\u001b[39m\u001b[39m%s\u001b[39;00m\u001b[39m is not supported\u001b[39m\u001b[39m\"\u001b[39m \u001b[39m%\u001b[39m y_type)\n",
      "File \u001b[1;32md:\\prashant\\softwares\\Python\\lib\\site-packages\\sklearn\\metrics\\_classification.py:95\u001b[0m, in \u001b[0;36m_check_targets\u001b[1;34m(y_true, y_pred)\u001b[0m\n\u001b[0;32m     92\u001b[0m     y_type \u001b[39m=\u001b[39m {\u001b[39m\"\u001b[39m\u001b[39mmulticlass\u001b[39m\u001b[39m\"\u001b[39m}\n\u001b[0;32m     94\u001b[0m \u001b[39mif\u001b[39;00m \u001b[39mlen\u001b[39m(y_type) \u001b[39m>\u001b[39m \u001b[39m1\u001b[39m:\n\u001b[1;32m---> 95\u001b[0m     \u001b[39mraise\u001b[39;00m \u001b[39mValueError\u001b[39;00m(\n\u001b[0;32m     96\u001b[0m         \u001b[39m\"\u001b[39m\u001b[39mClassification metrics can\u001b[39m\u001b[39m'\u001b[39m\u001b[39mt handle a mix of \u001b[39m\u001b[39m{0}\u001b[39;00m\u001b[39m and \u001b[39m\u001b[39m{1}\u001b[39;00m\u001b[39m targets\u001b[39m\u001b[39m\"\u001b[39m\u001b[39m.\u001b[39mformat(\n\u001b[0;32m     97\u001b[0m             type_true, type_pred\n\u001b[0;32m     98\u001b[0m         )\n\u001b[0;32m     99\u001b[0m     )\n\u001b[0;32m    101\u001b[0m \u001b[39m# We can't have more than one value on y_type => The set is no more needed\u001b[39;00m\n\u001b[0;32m    102\u001b[0m y_type \u001b[39m=\u001b[39m y_type\u001b[39m.\u001b[39mpop()\n",
      "\u001b[1;31mValueError\u001b[0m: Classification metrics can't handle a mix of binary and continuous targets"
     ]
    }
   ],
   "source": [
    "predict_y = saved_model.predict(X_val_norm)\n",
    "print(\"logloss on validation data :\",log_loss(y_val, predict_y.reshape(-1,).tolist(), labels=[0,1], eps=1e-15))\n",
    "\n"
   ]
  },
  {
   "cell_type": "code",
   "execution_count": 29,
   "metadata": {},
   "outputs": [
    {
     "data": {
      "text/plain": [
       "array([0, 1])"
      ]
     },
     "execution_count": 29,
     "metadata": {},
     "output_type": "execute_result"
    }
   ],
   "source": [
    "pd.Series(np.array(y_val).astype('int')).unique()"
   ]
  },
  {
   "cell_type": "code",
   "execution_count": 31,
   "metadata": {},
   "outputs": [
    {
     "data": {
      "image/png": "[encoded data removed]",
      "text/plain": [
       "<Figure size 640x480 with 2 Axes>"
      ]
     },
     "metadata": {},
     "output_type": "display_data"
    },
    {
     "name": "stdout",
     "output_type": "stream",
     "text": [
      "Accuracy : 0.9078347593475616\n",
      "Precision : 0.6581859139998675\n"
     ]
    }
   ],
   "source": [
    "model_stats(predict_y,np.array(y_val).astype('int'))"
   ]
  }
 ],
 "metadata": {
  "kernelspec": {
   "display_name": "Python 3",
   "language": "python",
   "name": "python3"
  },
  "language_info": {
   "codemirror_mode": {
    "name": "ipython",
    "version": 3
   },
   "file_extension": ".py",
   "mimetype": "text/x-python",
   "name": "python",
   "nbconvert_exporter": "python",
   "pygments_lexer": "ipython3",
   "version": "3.10.8"
  },
  "orig_nbformat": 4
 },
 "nbformat": 4,
 "nbformat_minor": 2
}
