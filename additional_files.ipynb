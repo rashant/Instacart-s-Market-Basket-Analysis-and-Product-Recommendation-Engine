{
 "cells": [
  {
   "cell_type": "code",
   "execution_count": 1,
   "metadata": {},
   "outputs": [],
   "source": [
    "# Load libraries\n",
    "\n",
    "import pandas as pd\n",
    "import pickle\n",
    "import numpy as np"
   ]
  },
  {
   "cell_type": "code",
   "execution_count": 2,
   "metadata": {},
   "outputs": [],
   "source": [
    "aisles=pd.read_csv(\"aisles.csv\")\n",
    "depart=pd.read_csv(\"departments.csv\")\n",
    "prior=pd.read_csv(\"order_products__prior.csv\")\n",
    "train=pd.read_csv(\"order_products__train.csv\")\n",
    "orders=pd.read_csv(\"orders.csv\")\n",
    "products=pd.read_csv(\"products.csv\")"
   ]
  },
  {
   "cell_type": "code",
   "execution_count": 3,
   "metadata": {},
   "outputs": [],
   "source": [
    "product_mappings = products[['product_id','product_name']]"
   ]
  },
  {
   "cell_type": "code",
   "execution_count": 4,
   "metadata": {},
   "outputs": [],
   "source": [
    "product_mappings.to_pickle(\"product_mappings.pkl\")"
   ]
  },
  {
   "cell_type": "code",
   "execution_count": 5,
   "metadata": {},
   "outputs": [],
   "source": [
    "orders.fillna(value = 0, inplace = True)"
   ]
  },
  {
   "cell_type": "code",
   "execution_count": 6,
   "metadata": {},
   "outputs": [],
   "source": [
    "prior_orders_data = prior.sort_values(by=['order_id'])\n",
    "\n",
    "prior_orders_data = pd.merge(left = prior_orders_data, right = products,\n",
    "                             left_on='product_id', right_on='product_id').sort_values(by=['order_id']).reset_index(drop=True)\n",
    "\n",
    "prior_orders_data = pd.merge(left = prior_orders_data, right = aisles,\n",
    "                             left_on='aisle_id', right_on='aisle_id').sort_values(by=['order_id']).reset_index(drop=True)\n",
    "\n",
    "prior_orders_data = pd.merge(left = prior_orders_data, right = depart,\n",
    "                             left_on='department_id', right_on='department_id').sort_values(by=['order_id']).reset_index(drop=True)\n",
    "\n",
    "prior_orders_data = pd.merge(left = prior_orders_data, right = orders,\n",
    "                             left_on='order_id', right_on='order_id').sort_values(by=['order_id']).reset_index(drop=True)\n"
   ]
  },
  {
   "cell_type": "code",
   "execution_count": 7,
   "metadata": {},
   "outputs": [],
   "source": [
    "col_order = ['user_id',\n",
    " 'order_id',\n",
    " 'product_id',\n",
    "  'aisle_id',\n",
    " 'department_id',\n",
    " 'add_to_cart_order',\n",
    " 'reordered',\n",
    " 'product_name',\n",
    " 'aisle',\n",
    " 'department',\n",
    " 'eval_set',\n",
    " 'order_number',\n",
    " 'order_dow',\n",
    " 'order_hour_of_day',\n",
    " 'days_since_prior_order']\n",
    "\n",
    "prior_orders_data = prior_orders_data[col_order]"
   ]
  },
  {
   "attachments": {},
   "cell_type": "markdown",
   "metadata": {},
   "source": [
    "Get top 10 products of each hour of each day of week"
   ]
  },
  {
   "cell_type": "code",
   "execution_count": 8,
   "metadata": {},
   "outputs": [
    {
     "data": {
      "text/html": [
       "<div>\n",
       "<style scoped>\n",
       "    .dataframe tbody tr th:only-of-type {\n",
       "        vertical-align: middle;\n",
       "    }\n",
       "\n",
       "    .dataframe tbody tr th {\n",
       "        vertical-align: top;\n",
       "    }\n",
       "\n",
       "    .dataframe thead th {\n",
       "        text-align: right;\n",
       "    }\n",
       "</style>\n",
       "<table border=\"1\" class=\"dataframe\">\n",
       "  <thead>\n",
       "    <tr style=\"text-align: right;\">\n",
       "      <th></th>\n",
       "      <th>order_dow</th>\n",
       "      <th>order_hour_of_day</th>\n",
       "      <th>product_name</th>\n",
       "      <th>count</th>\n",
       "    </tr>\n",
       "  </thead>\n",
       "  <tbody>\n",
       "    <tr>\n",
       "      <th>420</th>\n",
       "      <td>5</td>\n",
       "      <td>5</td>\n",
       "      <td>Banana</td>\n",
       "      <td>219</td>\n",
       "    </tr>\n",
       "    <tr>\n",
       "      <th>421</th>\n",
       "      <td>5</td>\n",
       "      <td>5</td>\n",
       "      <td>Bag of Organic Bananas</td>\n",
       "      <td>136</td>\n",
       "    </tr>\n",
       "    <tr>\n",
       "      <th>422</th>\n",
       "      <td>5</td>\n",
       "      <td>5</td>\n",
       "      <td>Organic Strawberries</td>\n",
       "      <td>125</td>\n",
       "    </tr>\n",
       "    <tr>\n",
       "      <th>423</th>\n",
       "      <td>5</td>\n",
       "      <td>5</td>\n",
       "      <td>Organic Hass Avocado</td>\n",
       "      <td>103</td>\n",
       "    </tr>\n",
       "    <tr>\n",
       "      <th>424</th>\n",
       "      <td>5</td>\n",
       "      <td>5</td>\n",
       "      <td>Organic Baby Spinach</td>\n",
       "      <td>101</td>\n",
       "    </tr>\n",
       "    <tr>\n",
       "      <th>425</th>\n",
       "      <td>5</td>\n",
       "      <td>5</td>\n",
       "      <td>Strawberries</td>\n",
       "      <td>81</td>\n",
       "    </tr>\n",
       "    <tr>\n",
       "      <th>426</th>\n",
       "      <td>5</td>\n",
       "      <td>5</td>\n",
       "      <td>Limes</td>\n",
       "      <td>68</td>\n",
       "    </tr>\n",
       "    <tr>\n",
       "      <th>427</th>\n",
       "      <td>5</td>\n",
       "      <td>5</td>\n",
       "      <td>Organic Avocado</td>\n",
       "      <td>67</td>\n",
       "    </tr>\n",
       "    <tr>\n",
       "      <th>428</th>\n",
       "      <td>5</td>\n",
       "      <td>5</td>\n",
       "      <td>Large Lemon</td>\n",
       "      <td>64</td>\n",
       "    </tr>\n",
       "    <tr>\n",
       "      <th>429</th>\n",
       "      <td>5</td>\n",
       "      <td>5</td>\n",
       "      <td>Organic Raspberries</td>\n",
       "      <td>58</td>\n",
       "    </tr>\n",
       "  </tbody>\n",
       "</table>\n",
       "</div>"
      ],
      "text/plain": [
       "     order_dow  order_hour_of_day            product_name  count\n",
       "420          5                  5                  Banana    219\n",
       "421          5                  5  Bag of Organic Bananas    136\n",
       "422          5                  5    Organic Strawberries    125\n",
       "423          5                  5    Organic Hass Avocado    103\n",
       "424          5                  5    Organic Baby Spinach    101\n",
       "425          5                  5            Strawberries     81\n",
       "426          5                  5                   Limes     68\n",
       "427          5                  5         Organic Avocado     67\n",
       "428          5                  5             Large Lemon     64\n",
       "429          5                  5     Organic Raspberries     58"
      ]
     },
     "execution_count": 8,
     "metadata": {},
     "output_type": "execute_result"
    }
   ],
   "source": [
    "x = prior_orders_data.groupby(['order_dow','order_hour_of_day','product_name'])['product_name'].size().reset_index(name = 'count').sort_values(\n",
    "   by=['order_dow','order_hour_of_day','count'], ascending = False)\n",
    "top10 = x.groupby(['order_dow','order_hour_of_day']).head(10).reset_index(drop = True)\n",
    "top10[(top10['order_dow']==5) & (top10['order_hour_of_day'] ==5)]"
   ]
  },
  {
   "cell_type": "code",
   "execution_count": 9,
   "metadata": {},
   "outputs": [],
   "source": [
    "top10.to_pickle(\"top10_products.pkl\")"
   ]
  },
  {
   "attachments": {},
   "cell_type": "markdown",
   "metadata": {},
   "source": [
    "Add User's last purchase date"
   ]
  },
  {
   "cell_type": "code",
   "execution_count": null,
   "metadata": {},
   "outputs": [],
   "source": [
    "user_last_purchase = pd.DataFrame(columns = ['user_id','date'])\n",
    "user_last_purchase['user_id'] = orders['user_id'].unique()\n",
    "user_last_purchase['date'] = '2021-03-21'\n",
    "user_last_purchase.to_pickle(\"user_last_purchase.pkl\")"
   ]
  }
 ],
 "metadata": {
  "kernelspec": {
   "display_name": "Python 3",
   "language": "python",
   "name": "python3"
  },
  "language_info": {
   "codemirror_mode": {
    "name": "ipython",
    "version": 3
   },
   "file_extension": ".py",
   "mimetype": "text/x-python",
   "name": "python",
   "nbconvert_exporter": "python",
   "pygments_lexer": "ipython3",
   "version": "3.10.8"
  },
  "orig_nbformat": 4
 },
 "nbformat": 4,
 "nbformat_minor": 2
}
